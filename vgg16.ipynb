{
  "nbformat": 4,
  "nbformat_minor": 0,
  "metadata": {
    "colab": {
      "provenance": [],
      "authorship_tag": "ABX9TyPp5TNBNrAMu3sFYpSLUQhw",
      "include_colab_link": true
    },
    "kernelspec": {
      "name": "python3",
      "display_name": "Python 3"
    },
    "language_info": {
      "name": "python"
    }
  },
  "cells": [
    {
      "cell_type": "markdown",
      "metadata": {
        "id": "view-in-github",
        "colab_type": "text"
      },
      "source": [
        "<a href=\"https://colab.research.google.com/github/Karthika298/Binary_classification-CNN/blob/main/vgg16.ipynb\" target=\"_parent\"><img src=\"https://colab.research.google.com/assets/colab-badge.svg\" alt=\"Open In Colab\"/></a>"
      ]
    },
    {
      "cell_type": "code",
      "execution_count": null,
      "metadata": {
        "id": "vJIaeN4oYFCk"
      },
      "outputs": [],
      "source": []
    },
    {
      "cell_type": "code",
      "execution_count": 1,
      "metadata": {
        "id": "3xTTshTjorto"
      },
      "outputs": [],
      "source": [
        "import numpy as np\n",
        "import pandas as pd\n",
        "from keras.preprocessing.image import ImageDataGenerator, load_img\n",
        "from keras.utils import to_categorical\n",
        "from sklearn.model_selection import train_test_split\n",
        "import matplotlib.pyplot as plt\n",
        "import random\n",
        "import os\n",
        "from PIL import Image"
      ]
    },
    {
      "cell_type": "code",
      "source": [],
      "metadata": {
        "id": "oO2YNXJcYZax"
      },
      "execution_count": null,
      "outputs": []
    },
    {
      "cell_type": "code",
      "source": [
        "import keras,os\n",
        "from keras.models import Sequential\n",
        "from keras.layers import Conv2D, MaxPooling2D, Dropout, Flatten, Dense, Activation,GlobalMaxPooling2D\n",
        "import numpy as np\n",
        "from keras.applications import VGG16\n",
        "from keras.models import Model\n",
        "from keras import optimizers , layers, applications"
      ],
      "metadata": {
        "id": "eia8IJW-o9pP"
      },
      "execution_count": 2,
      "outputs": []
    },
    {
      "cell_type": "code",
      "source": [
        "from google.colab import drive\n",
        "drive.mount('/content/drive')\n"
      ],
      "metadata": {
        "colab": {
          "base_uri": "https://localhost:8080/"
        },
        "id": "4REJ7ITWzTXC",
        "outputId": "9be06db2-5e21-4deb-feff-a7c6c1cae05a"
      },
      "execution_count": 3,
      "outputs": [
        {
          "output_type": "stream",
          "name": "stdout",
          "text": [
            "Mounted at /content/drive\n"
          ]
        }
      ]
    },
    {
      "cell_type": "code",
      "source": [
        "import os\n",
        "drive_path = '/content/drive/MyDrive/autism/AutismDataset'\n",
        "print(os.listdir(drive_path))\n"
      ],
      "metadata": {
        "colab": {
          "base_uri": "https://localhost:8080/"
        },
        "id": "kCaGabodzbjO",
        "outputId": "e78cd507-5573-451a-c918-c017d46073ab"
      },
      "execution_count": 4,
      "outputs": [
        {
          "output_type": "stream",
          "name": "stdout",
          "text": [
            "['test', 'train']\n"
          ]
        }
      ]
    },
    {
      "cell_type": "markdown",
      "source": [
        "## Creating dataframes for train and Test"
      ],
      "metadata": {
        "id": "cfBSCG8qioN-"
      }
    },
    {
      "cell_type": "code",
      "source": [
        "filenames = os.listdir(\"/content/drive/MyDrive/autism/AutismDataset/train\")\n",
        "categories = []\n",
        "for filename in filenames:\n",
        "    category = filename.split('.')[0]\n",
        "    if category == 'Autistic':\n",
        "        categories.append(str(1))\n",
        "    else:\n",
        "        categories.append(str(0))\n",
        "\n",
        "train_df = pd.DataFrame({\n",
        "    'filename': filenames,\n",
        "    'category': categories\n",
        "})"
      ],
      "metadata": {
        "id": "sNCGGqmW2GIz"
      },
      "execution_count": 5,
      "outputs": []
    },
    {
      "cell_type": "code",
      "source": [
        "test_filenames = os.listdir(\"/content/drive/MyDrive/autism/AutismDataset/test\")\n",
        "categories = []\n",
        "for filename in test_filenames:\n",
        "    category = filename.split('.')[0]\n",
        "    if category == 'Autistic':\n",
        "        categories.append(str(1))\n",
        "    else:\n",
        "        categories.append(str(0))\n",
        "\n",
        "test_df = pd.DataFrame({\n",
        "    'filename': test_filenames,\n",
        "    'category': categories\n",
        "})"
      ],
      "metadata": {
        "id": "GJAYRcR14pTU"
      },
      "execution_count": 6,
      "outputs": []
    },
    {
      "cell_type": "code",
      "source": [
        "from keras.applications import VGG16\n",
        "\n",
        "# Load the pre-trained VGG16 model (excluding the top fully connected layers)\n",
        "base_model = VGG16(weights='imagenet', include_top=False, input_shape=(224, 224, 3))\n",
        "\n",
        "# Freeze the layers of the VGG16 model so they are not updated during training\n",
        "for layer in base_model.layers:\n",
        "    layer.trainable = False\n",
        "\n",
        "\n",
        "model = Sequential([\n",
        "    base_model,\n",
        "    Flatten(),\n",
        "    Dense(512, activation='relu'),\n",
        "    Dropout(0.5),\n",
        "    Dense(1, activation='sigmoid')  # Output layer for binary classification\n",
        "])\n",
        "\n",
        "\n",
        "model.compile(optimizer='rmsprop', loss='binary_crossentropy', metrics=['accuracy'])\n",
        "\n",
        "\n",
        "model.summary()\n",
        "image_size = 224\n",
        "input_shape = (image_size, image_size, 3)\n",
        "\n",
        "\n",
        "epochs = 20\n",
        "batch_size = 16"
      ],
      "metadata": {
        "id": "sM6ERdsheEz2",
        "colab": {
          "base_uri": "https://localhost:8080/"
        },
        "outputId": "f080f798-e317-45c5-d12f-fe228daaadc6"
      },
      "execution_count": 8,
      "outputs": [
        {
          "output_type": "stream",
          "name": "stdout",
          "text": [
            "Model: \"sequential_1\"\n",
            "_________________________________________________________________\n",
            " Layer (type)                Output Shape              Param #   \n",
            "=================================================================\n",
            " vgg16 (Functional)          (None, 7, 7, 512)         14714688  \n",
            "                                                                 \n",
            " flatten_1 (Flatten)         (None, 25088)             0         \n",
            "                                                                 \n",
            " dense_2 (Dense)             (None, 512)               12845568  \n",
            "                                                                 \n",
            " dropout_1 (Dropout)         (None, 512)               0         \n",
            "                                                                 \n",
            " dense_3 (Dense)             (None, 1)                 513       \n",
            "                                                                 \n",
            "=================================================================\n",
            "Total params: 27560769 (105.14 MB)\n",
            "Trainable params: 12846081 (49.00 MB)\n",
            "Non-trainable params: 14714688 (56.13 MB)\n",
            "_________________________________________________________________\n"
          ]
        }
      ]
    },
    {
      "cell_type": "code",
      "source": [],
      "metadata": {
        "id": "M5K63KqTZQTB"
      },
      "execution_count": null,
      "outputs": []
    },
    {
      "cell_type": "code",
      "source": [
        "# Prepare Test and Train Data\n",
        "train_df, validate_df = train_test_split(train_df, test_size=0.1)\n",
        "train_df = train_df.reset_index()\n",
        "validate_df = validate_df.reset_index()\n",
        "\n",
        "total_train = train_df.shape[0]\n",
        "total_validate = validate_df.shape[0]"
      ],
      "metadata": {
        "id": "Xmwe6zvy5x_7"
      },
      "execution_count": 9,
      "outputs": []
    },
    {
      "cell_type": "code",
      "source": [],
      "metadata": {
        "id": "0cCVLKNQZTrs"
      },
      "execution_count": null,
      "outputs": []
    },
    {
      "cell_type": "code",
      "source": [
        "# Training Generator\n",
        "train_datagen = ImageDataGenerator(\n",
        "    rotation_range=15,\n",
        "    rescale=1./255,\n",
        "    shear_range=0.2,\n",
        "    zoom_range=0.2,\n",
        "    horizontal_flip=True,\n",
        "    fill_mode='nearest',\n",
        "    width_shift_range=0.1,\n",
        "    height_shift_range=0.1\n",
        ")\n",
        "\n",
        "train_generator = train_datagen.flow_from_dataframe(\n",
        "    train_df,\n",
        "    \"/content/drive/MyDrive/autism/AutismDataset/train/\",\n",
        "    x_col='filename',\n",
        "    y_col='category',\n",
        "    class_mode='binary',\n",
        "    target_size=(image_size, image_size),\n",
        "    batch_size=batch_size\n",
        ")"
      ],
      "metadata": {
        "colab": {
          "base_uri": "https://localhost:8080/"
        },
        "id": "p3RTMKtT52gd",
        "outputId": "945b14af-f200-4adc-b633-15b5ced66237"
      },
      "execution_count": 10,
      "outputs": [
        {
          "output_type": "stream",
          "name": "stdout",
          "text": [
            "Found 2286 validated image filenames belonging to 2 classes.\n"
          ]
        }
      ]
    },
    {
      "cell_type": "code",
      "source": [],
      "metadata": {
        "id": "HUOMl6blZXZ7"
      },
      "execution_count": null,
      "outputs": []
    },
    {
      "cell_type": "code",
      "source": [
        "# Validation Generator\n",
        "validation_datagen = ImageDataGenerator(rescale=1./255)\n",
        "validation_generator = validation_datagen.flow_from_dataframe(\n",
        "    validate_df,\n",
        "    \"/content/drive/MyDrive/autism/AutismDataset/train/\",\n",
        "    x_col='filename',\n",
        "    y_col='category',\n",
        "    class_mode='binary',\n",
        "    target_size=(image_size, image_size),\n",
        "    batch_size=batch_size\n",
        ")"
      ],
      "metadata": {
        "colab": {
          "base_uri": "https://localhost:8080/"
        },
        "id": "A-IqR-l-6Df-",
        "outputId": "c1c4f26e-6013-47c0-b235-68b8dee66a32"
      },
      "execution_count": 11,
      "outputs": [
        {
          "output_type": "stream",
          "name": "stdout",
          "text": [
            "Found 254 validated image filenames belonging to 2 classes.\n"
          ]
        }
      ]
    },
    {
      "cell_type": "code",
      "source": [
        "#Fit Model\n",
        "history = model.fit_generator(\n",
        "    train_generator,\n",
        "    epochs=epochs,\n",
        "    validation_data=validation_generator,\n",
        "    validation_steps=total_validate//batch_size,\n",
        "    steps_per_epoch=total_train//batch_size)\n"
      ],
      "metadata": {
        "colab": {
          "base_uri": "https://localhost:8080/"
        },
        "id": "2UszXjPDZape",
        "outputId": "780f7db7-33d5-4c32-bd9b-2ec2b64c7878"
      },
      "execution_count": 12,
      "outputs": [
        {
          "output_type": "stream",
          "name": "stderr",
          "text": [
            "<ipython-input-12-d06c556e144e>:2: UserWarning: `Model.fit_generator` is deprecated and will be removed in a future version. Please use `Model.fit`, which supports generators.\n",
            "  history = model.fit_generator(\n"
          ]
        },
        {
          "output_type": "stream",
          "name": "stdout",
          "text": [
            "Epoch 1/20\n",
            "142/142 [==============================] - 1074s 7s/step - loss: 1.4791 - accuracy: 0.6093 - val_loss: 0.5097 - val_accuracy: 0.7750\n",
            "Epoch 2/20\n",
            "142/142 [==============================] - 42s 296ms/step - loss: 0.5991 - accuracy: 0.6771 - val_loss: 0.4779 - val_accuracy: 0.7958\n",
            "Epoch 3/20\n",
            "142/142 [==============================] - 44s 309ms/step - loss: 0.5658 - accuracy: 0.6978 - val_loss: 0.4845 - val_accuracy: 0.7708\n",
            "Epoch 4/20\n",
            "142/142 [==============================] - 42s 297ms/step - loss: 0.5371 - accuracy: 0.7436 - val_loss: 0.5207 - val_accuracy: 0.7042\n",
            "Epoch 5/20\n",
            "142/142 [==============================] - 42s 295ms/step - loss: 0.5359 - accuracy: 0.7401 - val_loss: 0.4744 - val_accuracy: 0.8000\n",
            "Epoch 6/20\n",
            "142/142 [==============================] - 43s 300ms/step - loss: 0.5056 - accuracy: 0.7502 - val_loss: 0.4706 - val_accuracy: 0.7792\n",
            "Epoch 7/20\n",
            "142/142 [==============================] - 42s 295ms/step - loss: 0.4981 - accuracy: 0.7590 - val_loss: 0.4225 - val_accuracy: 0.8042\n",
            "Epoch 8/20\n",
            "142/142 [==============================] - 43s 304ms/step - loss: 0.5043 - accuracy: 0.7555 - val_loss: 0.4822 - val_accuracy: 0.7458\n",
            "Epoch 9/20\n",
            "142/142 [==============================] - 43s 303ms/step - loss: 0.4950 - accuracy: 0.7678 - val_loss: 0.4395 - val_accuracy: 0.8083\n",
            "Epoch 10/20\n",
            "142/142 [==============================] - 44s 307ms/step - loss: 0.4925 - accuracy: 0.7392 - val_loss: 0.4626 - val_accuracy: 0.7708\n",
            "Epoch 11/20\n",
            "142/142 [==============================] - 43s 300ms/step - loss: 0.4781 - accuracy: 0.7626 - val_loss: 0.4130 - val_accuracy: 0.8167\n",
            "Epoch 12/20\n",
            "142/142 [==============================] - 43s 302ms/step - loss: 0.4741 - accuracy: 0.7815 - val_loss: 0.4430 - val_accuracy: 0.8167\n",
            "Epoch 13/20\n",
            "142/142 [==============================] - 44s 309ms/step - loss: 0.4793 - accuracy: 0.7630 - val_loss: 0.4081 - val_accuracy: 0.8417\n",
            "Epoch 14/20\n",
            "142/142 [==============================] - 42s 299ms/step - loss: 0.4813 - accuracy: 0.7661 - val_loss: 0.4223 - val_accuracy: 0.8042\n",
            "Epoch 15/20\n",
            "142/142 [==============================] - 42s 298ms/step - loss: 0.4685 - accuracy: 0.7815 - val_loss: 0.4300 - val_accuracy: 0.8083\n",
            "Epoch 16/20\n",
            "142/142 [==============================] - 43s 302ms/step - loss: 0.4804 - accuracy: 0.7758 - val_loss: 0.4571 - val_accuracy: 0.8208\n",
            "Epoch 17/20\n",
            "142/142 [==============================] - 43s 299ms/step - loss: 0.4876 - accuracy: 0.7700 - val_loss: 0.4197 - val_accuracy: 0.8292\n",
            "Epoch 18/20\n",
            "142/142 [==============================] - 43s 303ms/step - loss: 0.4681 - accuracy: 0.7872 - val_loss: 0.4301 - val_accuracy: 0.8083\n",
            "Epoch 19/20\n",
            "142/142 [==============================] - 42s 297ms/step - loss: 0.4762 - accuracy: 0.7705 - val_loss: 0.4636 - val_accuracy: 0.7917\n",
            "Epoch 20/20\n",
            "142/142 [==============================] - 43s 305ms/step - loss: 0.4582 - accuracy: 0.7846 - val_loss: 0.4284 - val_accuracy: 0.8042\n"
          ]
        }
      ]
    },
    {
      "cell_type": "code",
      "source": [
        "loss, accuracy = model.evaluate_generator(validation_generator, total_validate//batch_size, workers=12)\n",
        "print(\"Test: accuracy = %f  ;  loss = %f \" % (accuracy, loss))"
      ],
      "metadata": {
        "colab": {
          "base_uri": "https://localhost:8080/"
        },
        "id": "45jl5mf0j046",
        "outputId": "7e15d1b5-a95b-4ff9-9daf-f7607e3c1c15"
      },
      "execution_count": 13,
      "outputs": [
        {
          "output_type": "stream",
          "name": "stderr",
          "text": [
            "<ipython-input-13-5bf9ded073bc>:1: UserWarning: `Model.evaluate_generator` is deprecated and will be removed in a future version. Please use `Model.evaluate`, which supports generators.\n",
            "  loss, accuracy = model.evaluate_generator(validation_generator, total_validate//batch_size, workers=12)\n"
          ]
        },
        {
          "output_type": "stream",
          "name": "stdout",
          "text": [
            "Test: accuracy = 0.800000  ;  loss = 0.427432 \n"
          ]
        }
      ]
    },
    {
      "cell_type": "code",
      "source": [
        "import matplotlib.pyplot as plt\n",
        "\n",
        "plt.plot(history.history['accuracy'])\n",
        "plt.plot(history.history['val_accuracy'])\n",
        "plt.title('Model accuracy')\n",
        "plt.ylabel('Accuracy')\n",
        "plt.xlabel('Epoch')\n",
        "plt.legend(['Train', 'Validation'], loc='upper left')\n",
        "plt.show()\n",
        "\n",
        "plt.plot(history.history['loss'])\n",
        "plt.plot(history.history['val_loss'])\n",
        "plt.title('Model loss')\n",
        "plt.ylabel('Loss')\n",
        "plt.xlabel('Epoch')\n",
        "plt.legend(['Train', 'Validation'], loc='upper left')\n",
        "plt.show()\n"
      ],
      "metadata": {
        "colab": {
          "base_uri": "https://localhost:8080/",
          "height": 927
        },
        "id": "HiunIqajj1uS",
        "outputId": "7856d2a3-45ac-4673-ba4c-2d24e2850bfd"
      },
      "execution_count": 14,
      "outputs": [
        {
          "output_type": "display_data",
          "data": {
            "text/plain": [
              "<Figure size 640x480 with 1 Axes>"
            ],
            "image/png": "[encoded data removed]"
          },
          "metadata": {}
        },
        {
          "output_type": "display_data",
          "data": {
            "text/plain": [
              "<Figure size 640x480 with 1 Axes>"
            ],
            "image/png": "[encoded data removed]"
          },
          "metadata": {}
        }
      ]
    }
  ]
}